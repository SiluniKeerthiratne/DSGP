{
  "cells": [
    {
      "cell_type": "markdown",
      "metadata": {
        "id": "view-in-github",
        "colab_type": "text"
      },
      "source": [
        "<a href=\"https://colab.research.google.com/github/SiluniKeerthiratne/DSGP/blob/nisal/%20v3%20model.ipynb\" target=\"_parent\"><img src=\"https://colab.research.google.com/assets/colab-badge.svg\" alt=\"Open In Colab\"/></a>"
      ]
    },
    {
      "cell_type": "code",
      "source": [
        "# # Mount drive\n",
        "# from google.colab import drive\n",
        "# drive.mount('/content/drive')"
      ],
      "metadata": {
        "colab": {
          "base_uri": "https://localhost:8080/"
        },
        "id": "CZIuEyaJO3dG",
        "outputId": "3e938c37-8ce4-49ec-9a58-8ca10ca931b0"
      },
      "id": "CZIuEyaJO3dG",
      "execution_count": null,
      "outputs": [
        {
          "output_type": "stream",
          "name": "stdout",
          "text": [
            "Mounted at /content/drive\n"
          ]
        }
      ]
    },
    {
      "cell_type": "code",
      "source": [
        "# Import dependancies\n",
        "import tensorflow as tf\n",
        "import os\n",
        "import cv2\n",
        "from tqdm import tqdm\n",
        "from tqdm import tqdm_notebook"
      ],
      "metadata": {
        "id": "EsUMG-Hx-m5Z"
      },
      "id": "EsUMG-Hx-m5Z",
      "execution_count": null,
      "outputs": []
    },
    {
      "cell_type": "code",
      "source": [
        "# Assign directory\n",
        "root_dir = r'C:\\Users\\nisal\\DSGP\\all\\FruitDataset'\n",
        "\n",
        "fruit_classes = ['banana','mango','tomato']\n",
        "ripeness_classes = ['0 unripe', '1 partially ripe', '2 ripe']\n",
        "\n",
        "X = []\n",
        "y = []\n",
        "\n",
        "for fruit_class in fruit_classes:\n",
        "    for ripeness_class_label, ripeness_class in enumerate(ripeness_classes):\n",
        "        class_path = os.path.join(root_dir, fruit_class, ripeness_class)\n",
        "        for img_name in tqdm(os.listdir(class_path)):\n",
        "            img_path = os.path.join(class_path, img_name)\n",
        "            img = cv2.imread(img_path)\n",
        "            img = cv2.resize(img, (244, 244))\n",
        "            X.append(img)\n",
        "            y.append(ripeness_class_label)"
      ],
      "metadata": {
        "id": "PiSWX_cB-qII"
      },
      "id": "PiSWX_cB-qII",
      "execution_count": null,
      "outputs": []
    },
    {
      "cell_type": "code",
      "source": [
        "# Splitting data into Train and Test\n",
        "from sklearn.model_selection import train_test_split\n",
        "X_train, X_test, y_train, y_test = train_test_split(X, y, test_size=0.2, random_state=42)"
      ],
      "metadata": {
        "id": "L5NrCJlR-sK8"
      },
      "id": "L5NrCJlR-sK8",
      "execution_count": null,
      "outputs": []
    },
    {
      "cell_type": "code",
      "source": [
        "import numpy as np\n",
        "\n",
        "# Convert to NumPy arrays\n",
        "X_train = np.array(X_train)\n",
        "y_train = np.array(y_train)\n",
        "X_test = np.array(X_test)\n",
        "y_test = np.array(y_test)\n",
        "\n",
        "print(\"X_train Shape: \", X_train.shape)\n",
        "print(\"y_train Shape: \", y_train.shape)\n",
        "print(\"X_test Shape: \", X_test.shape)\n",
        "print(\"y_test Shape: \", y_test.shape)"
      ],
      "metadata": {
        "id": "3wbkORWR-uV4"
      },
      "id": "3wbkORWR-uV4",
      "execution_count": null,
      "outputs": []
    },
    {
      "cell_type": "code",
      "source": [
        "# Build model\n",
        "from keras.applications import InceptionV3\n",
        "from keras.models import Model\n",
        "from keras.layers import GlobalAveragePooling2D, Dense, Dropout\n",
        "from keras import regularizers\n",
        "\n",
        "img_rows, img_cols = 244, 244"
      ],
      "metadata": {
        "id": "ArqWytSD-wMK"
      },
      "id": "ArqWytSD-wMK",
      "execution_count": null,
      "outputs": []
    },
    {
      "cell_type": "code",
      "source": [
        "# Load 'InceptionV3' model\n",
        "inception = InceptionV3(weights='imagenet', include_top=False, input_shape=(img_rows, img_cols, 3))"
      ],
      "metadata": {
        "id": "ha-FcXgn-02k"
      },
      "id": "ha-FcXgn-02k",
      "execution_count": null,
      "outputs": []
    },
    {
      "cell_type": "code",
      "source": [
        "# Freeze the layers\n",
        "for layer in inception.layers:\n",
        "    layer.trainable = False"
      ],
      "metadata": {
        "id": "cnEeKJvg-18Y"
      },
      "id": "cnEeKJvg-18Y",
      "execution_count": null,
      "outputs": []
    },
    {
      "cell_type": "code",
      "source": [
        "# Custom head\n",
        "def custom_head(bottom_model, num_classes):\n",
        "    top_model = bottom_model.output\n",
        "    top_model = GlobalAveragePooling2D()(top_model)\n",
        "    top_model = Dense(1024, activation='relu')(top_model)\n",
        "    top_model = Dense(512, activation='relu')(top_model)\n",
        "    top_model = Dense(128, activation='relu', kernel_regularizer=regularizers.l2(0.01))(top_model)\n",
        "    top_model = Dropout(0.5)(top_model)  # Add dropout for regularization\n",
        "    top_model = Dense(num_classes, activation='softmax')(top_model)\n",
        "    return top_model"
      ],
      "metadata": {
        "id": "OFjsf93D-31c"
      },
      "id": "OFjsf93D-31c",
      "execution_count": null,
      "outputs": []
    },
    {
      "cell_type": "code",
      "source": [
        "# Add custom head on top of InceptionV3\n",
        "num_classes = len(ripeness_classes)\n",
        "FC_Head = custom_head(inception, num_classes)\n",
        "model = Model(inputs=inception.input, outputs=FC_Head)"
      ],
      "metadata": {
        "id": "snMrkhVf-6Dc"
      },
      "id": "snMrkhVf-6Dc",
      "execution_count": null,
      "outputs": []
    },
    {
      "cell_type": "code",
      "source": [
        "# Model summary\n",
        "print(model.summary())"
      ],
      "metadata": {
        "id": "ICK8AI9a-71_"
      },
      "id": "ICK8AI9a-71_",
      "execution_count": null,
      "outputs": []
    },
    {
      "cell_type": "code",
      "source": [
        "# Model compilation\n",
        "model.compile(optimizer='adam',\n",
        "              loss='sparse_categorical_crossentropy',\n",
        "              metrics=['accuracy'])"
      ],
      "metadata": {
        "id": "mu9_0CXk-9R4"
      },
      "id": "mu9_0CXk-9R4",
      "execution_count": null,
      "outputs": []
    },
    {
      "cell_type": "code",
      "source": [
        "# Train the model\n",
        "history = model.fit(X_train, y_train,epochs=25,verbose=1,initial_epoch=0,validation_data=(X_test, y_test))"
      ],
      "metadata": {
        "id": "1Hrm56lD-_zN"
      },
      "id": "1Hrm56lD-_zN",
      "execution_count": null,
      "outputs": []
    },
    {
      "cell_type": "code",
      "source": [
        "# Evaluate the model\n",
        "import numpy as np\n",
        "from sklearn.metrics import classification_report, confusion_matrix"
      ],
      "metadata": {
        "id": "-9rBSktu_B_m"
      },
      "id": "-9rBSktu_B_m",
      "execution_count": null,
      "outputs": []
    },
    {
      "cell_type": "code",
      "source": [
        "# Get true labels\n",
        "true_labels = y_test\n",
        "\n",
        "# Get predictions\n",
        "predictions = model.predict(X_test)\n",
        "predicted_labels = np.argmax(predictions, axis=-1)\n",
        "\n",
        "# Calculate accuracy\n",
        "accuracy = np.mean(true_labels == predicted_labels)*100\n",
        "print(\"Accuracy:\", accuracy,\"%\")"
      ],
      "metadata": {
        "id": "ZZGnXbDd_DwZ"
      },
      "id": "ZZGnXbDd_DwZ",
      "execution_count": null,
      "outputs": []
    },
    {
      "cell_type": "code",
      "source": [
        "# Calculate precision, recall, f1-score, and support\n",
        "ripeness_classes_names = [str(i) for i in range(len(ripeness_classes))]  # Assuming class indices as numbers\n",
        "print(\"Classification Report:\")\n",
        "print(classification_report(true_labels, predicted_labels, target_names=ripeness_classes_names))"
      ],
      "metadata": {
        "id": "EqwgV8Q8_FgA"
      },
      "id": "EqwgV8Q8_FgA",
      "execution_count": null,
      "outputs": []
    },
    {
      "cell_type": "code",
      "source": [
        "# Calculate confusion matrix\n",
        "conf_matrix = confusion_matrix(true_labels, predicted_labels)\n",
        "print(\"Confusion Matrix:\")\n",
        "print(conf_matrix)"
      ],
      "metadata": {
        "id": "yoya60oU_HMr"
      },
      "id": "yoya60oU_HMr",
      "execution_count": null,
      "outputs": []
    },
    {
      "cell_type": "code",
      "source": [
        "# Visualization of Training History\n",
        "import matplotlib.pyplot as plt\n",
        "\n",
        "plt.plot(history.history['accuracy'], label='Training Accuracy')\n",
        "plt.plot(history.history['val_accuracy'], label='Validation Accuracy')\n",
        "plt.title('Training and Validation Accuracy')\n",
        "plt.legend()"
      ],
      "metadata": {
        "id": "DbW1Qd2l_JBu"
      },
      "id": "DbW1Qd2l_JBu",
      "execution_count": null,
      "outputs": []
    },
    {
      "cell_type": "code",
      "source": [
        "plt.plot(history.history['loss'], label='Training Loss')\n",
        "plt.plot(history.history['val_loss'], label='Validation Loss')\n",
        "plt.title('Training and Validation Loss')\n",
        "plt.legend()"
      ],
      "metadata": {
        "id": "5xjmQjmh_K0r"
      },
      "id": "5xjmQjmh_K0r",
      "execution_count": null,
      "outputs": []
    },
    {
      "cell_type": "code",
      "source": [
        "# Save model\n",
        "model.save(r'C:\\Users\\nisal\\DSGP\\all\\v3trained_model.h5')"
      ],
      "metadata": {
        "id": "ho3ojMFL_MkX"
      },
      "id": "ho3ojMFL_MkX",
      "execution_count": null,
      "outputs": []
    }
  ],
  "metadata": {
    "kernelspec": {
      "display_name": "testenv",
      "language": "python",
      "name": "testenv"
    },
    "language_info": {
      "codemirror_mode": {
        "name": "ipython",
        "version": 3
      },
      "file_extension": ".py",
      "mimetype": "text/x-python",
      "name": "python",
      "nbconvert_exporter": "python",
      "pygments_lexer": "ipython3",
      "version": "3.11.6"
    },
    "colab": {
      "provenance": [],
      "include_colab_link": true
    },
    "accelerator": "TPU"
  },
  "nbformat": 4,
  "nbformat_minor": 5
}