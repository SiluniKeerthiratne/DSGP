{
  "nbformat": 4,
  "nbformat_minor": 0,
  "metadata": {
    "colab": {
      "provenance": [],
      "mount_file_id": "1x-iGIa0HxaxY7lv8d9qTCpPUbiuCnJ8T",
      "authorship_tag": "ABX9TyOwMfEw6FtfAfl7uXQYdwHZ",
      "include_colab_link": true
    },
    "kernelspec": {
      "name": "python3",
      "display_name": "Python 3"
    },
    "language_info": {
      "name": "python"
    }
  },
  "cells": [
    {
      "cell_type": "markdown",
      "metadata": {
        "id": "view-in-github",
        "colab_type": "text"
      },
      "source": [
        "<a href=\"https://colab.research.google.com/github/SiluniKeerthiratne/DSGP/blob/gaindu/1.ipynb\" target=\"_parent\"><img src=\"https://colab.research.google.com/assets/colab-badge.svg\" alt=\"Open In Colab\"/></a>"
      ]
    },
    {
      "cell_type": "code",
      "source": [
        "import os\n",
        "import cv2\n",
        "import numpy as np\n",
        "from shutil import copyfile\n",
        "\n",
        "# Set paths to datasets\n",
        "base_dir = '/content/drive/MyDrive/Unripe'\n",
        "training_dir = os.path.join(base_dir, 'Training')\n",
        "test_dir = os.path.join(base_dir, 'Test')\n",
        "output_dir = os.path.join(base_dir, 'Test_Sorted')\n",
        "\n",
        "# Ensure output directory exists\n",
        "os.makedirs(output_dir, exist_ok=True)\n",
        "\n",
        "# Function to check if an image is ripe based on color\n",
        "def is_ripe(image_path, threshold=100):\n",
        "    # Read the image\n",
        "    img = cv2.imread(image_path)\n",
        "    if img is None:\n",
        "        return False  # Skip if unable to read image\n",
        "\n",
        "    # Convert BGR to HSV\n",
        "    hsv = cv2.cvtColor(img, cv2.COLOR_BGR2HSV)\n",
        "\n",
        "    # Define a range of yellow color in HSV\n",
        "    lower_yellow = np.array([20, 100, 100])\n",
        "    upper_yellow = np.array([30, 255, 255])\n",
        "\n",
        "    # Threshold the image to get only yellow colors\n",
        "    mask = cv2.inRange(hsv, lower_yellow, upper_yellow)\n",
        "\n",
        "    # Count the number of yellow pixels\n",
        "    yellow_pixel_count = cv2.countNonZero(mask)\n",
        "\n",
        "    # If the number of yellow pixels is above the threshold, consider it ripe\n",
        "    return yellow_pixel_count > threshold\n",
        "\n",
        "# Iterate through images in the \"Test\" folder\n",
        "for img_name in os.listdir(test_dir):\n",
        "    img_path = os.path.join(test_dir, img_name)\n",
        "    output_category = \"Ripe\" if is_ripe(img_path) else \"Unripe\"\n",
        "\n",
        "    # Create subdirectories for Ripe and Unripe in the output directory\n",
        "    output_category_dir = os.path.join(output_dir, output_category)\n",
        "    os.makedirs(output_category_dir, exist_ok=True)\n",
        "\n",
        "    # Copy the image to the corresponding output category directory\n",
        "    output_path = os.path.join(output_category_dir, img_name)\n",
        "    copyfile(img_path, output_path)\n",
        "\n",
        "print(\"Image sorting completed.\")\n"
      ],
      "metadata": {
        "colab": {
          "base_uri": "https://localhost:8080/"
        },
        "id": "9s5QARx5yWoF",
        "outputId": "80e22e39-b444-490b-c967-e4dfa269c15f"
      },
      "execution_count": 14,
      "outputs": [
        {
          "output_type": "stream",
          "name": "stdout",
          "text": [
            "Image sorting completed.\n"
          ]
        }
      ]
    }
  ]
}