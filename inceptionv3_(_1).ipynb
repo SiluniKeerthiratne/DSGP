{
  "cells": [
    {
      "cell_type": "markdown",
      "metadata": {
        "id": "view-in-github",
        "colab_type": "text"
      },
      "source": [
        "<a href=\"https://colab.research.google.com/github/SiluniKeerthiratne/DSGP/blob/siluni/inceptionv3_(_1).ipynb\" target=\"_parent\"><img src=\"https://colab.research.google.com/assets/colab-badge.svg\" alt=\"Open In Colab\"/></a>"
      ]
    },
    {
      "cell_type": "markdown",
      "source": [
        "# Train #1\n",
        "*   Trained on 1611 images (2/5 apple,banna)\n",
        "*   Accuracy 0.98\n",
        "\n",
        "\n"
      ],
      "metadata": {
        "id": "x96W4lzoVEh5"
      },
      "id": "x96W4lzoVEh5"
    },
    {
      "cell_type": "code",
      "execution_count": 1,
      "id": "477c4a1f",
      "metadata": {
        "colab": {
          "base_uri": "https://localhost:8080/"
        },
        "id": "477c4a1f",
        "outputId": "64ae49c4-ab41-4d78-9ac6-dfac6317df8a"
      },
      "outputs": [
        {
          "output_type": "stream",
          "name": "stdout",
          "text": [
            "Mounted at /content/drive/\n"
          ]
        }
      ],
      "source": [
        "from google.colab import drive\n",
        "drive.mount('/content/drive/')"
      ]
    },
    {
      "cell_type": "code",
      "source": [
        "import numpy as np\n",
        "from keras.models import Model\n",
        "from keras.callbacks import ModelCheckpoint, EarlyStopping, ReduceLROnPlateau\n",
        "from tensorflow.keras.optimizers import Adam\n",
        "from keras.preprocessing.image import ImageDataGenerator"
      ],
      "metadata": {
        "id": "eKLdv_4xkRwM"
      },
      "id": "eKLdv_4xkRwM",
      "execution_count": 2,
      "outputs": []
    },
    {
      "cell_type": "code",
      "source": [
        "train_path = \"/content/drive/MyDrive/DSGPDevelopment/dataset copy 4/train\"\n",
        "valid_path = '/content/drive/MyDrive/DSGPDevelopment/dataset copy 4/validation'\n",
        "test_path = '/content/drive/MyDrive/DSGPDevelopment/dataset copy 4/test'\n",
        "img_size =  (224,224,3)\n",
        "IMG_SIZE = (224, 224)\n",
        "BATCH_SIZE = 8\n",
        "EPOCHS = 30"
      ],
      "metadata": {
        "id": "dcuv9AOrkRzc"
      },
      "id": "dcuv9AOrkRzc",
      "execution_count": 24,
      "outputs": []
    },
    {
      "cell_type": "code",
      "source": [
        "datagen = ImageDataGenerator(rotation_range = 40,\n",
        "                             width_shift_range = 0.2,\n",
        "                             height_shift_range = 0.2,\n",
        "                             shear_range = 0.2,\n",
        "                             zoom_range = 0.2,\n",
        "                             channel_shift_range = 10,\n",
        "                             horizontal_flip = True,\n",
        "                             fill_mode = 'nearest')"
      ],
      "metadata": {
        "id": "GVO_ocBMkR2Z"
      },
      "id": "GVO_ocBMkR2Z",
      "execution_count": 25,
      "outputs": []
    },
    {
      "cell_type": "code",
      "source": [
        "train_dataset = datagen.flow_from_directory(directory = train_path,\n",
        "                                                  color_mode = \"rgb\",\n",
        "                                                  target_size = (224,224),\n",
        "                                                  interpolation = 'bicubic',\n",
        "                                                  class_mode = \"categorical\",\n",
        "                                                  shuffle = True,\n",
        "                                                  batch_size = BATCH_SIZE)\n",
        "\n",
        "validation_dataset  = datagen.flow_from_directory(directory = valid_path,\n",
        "                                            color_mode = \"rgb\",\n",
        "                                            target_size = (224,224),\n",
        "                                            interpolation = 'bicubic',\n",
        "                                            class_mode = \"categorical\",\n",
        "                                            shuffle = False,\n",
        "                                            batch_size = BATCH_SIZE)\n",
        "test_dataset  = datagen.flow_from_directory(directory = test_path,\n",
        "                                           color_mode = \"rgb\",\n",
        "                                           target_size = (224,224),\n",
        "                                           interpolation = 'bicubic',\n",
        "                                           class_mode = \"categorical\",\n",
        "                                           shuffle = False,\n",
        "                                           batch_size = BATCH_SIZE)"
      ],
      "metadata": {
        "colab": {
          "base_uri": "https://localhost:8080/"
        },
        "id": "INXOljpukR5L",
        "outputId": "6739a271-ff1f-41da-a568-d4005983b1a1"
      },
      "id": "INXOljpukR5L",
      "execution_count": 26,
      "outputs": [
        {
          "output_type": "stream",
          "name": "stdout",
          "text": [
            "Found 1611 images belonging to 2 classes.\n",
            "Found 458 images belonging to 2 classes.\n",
            "Found 365 images belonging to 2 classes.\n"
          ]
        }
      ]
    },
    {
      "cell_type": "code",
      "source": [
        "import tensorflow as tf\n",
        "preprocess_input = tf.keras.applications.inception_v3.preprocess_input"
      ],
      "metadata": {
        "id": "kzyURwGwkXgm"
      },
      "id": "kzyURwGwkXgm",
      "execution_count": 27,
      "outputs": []
    },
    {
      "cell_type": "code",
      "source": [
        "IMG_SHAPE = IMG_SIZE + (3,)\n",
        "base_model = tf.keras.applications.inception_v3.InceptionV3(input_shape=IMG_SHAPE,\n",
        "                                               include_top=False,\n",
        "                                               weights='imagenet')"
      ],
      "metadata": {
        "id": "GwhaSquJkZPe"
      },
      "id": "GwhaSquJkZPe",
      "execution_count": 28,
      "outputs": []
    },
    {
      "cell_type": "code",
      "source": [
        "base_model.trainable = False\n",
        "image_batch, label_batch = next(iter(train_dataset))\n",
        "feature_batch = base_model(image_batch)\n",
        "print(feature_batch.shape)"
      ],
      "metadata": {
        "colab": {
          "base_uri": "https://localhost:8080/"
        },
        "id": "ZV6XlrLikbmI",
        "outputId": "22f1948f-4fe2-4326-89bd-f0917babe15f"
      },
      "id": "ZV6XlrLikbmI",
      "execution_count": 29,
      "outputs": [
        {
          "output_type": "stream",
          "name": "stdout",
          "text": [
            "(8, 5, 5, 2048)\n"
          ]
        }
      ]
    },
    {
      "cell_type": "code",
      "source": [
        "global_average_layer = tf.keras.layers.GlobalAveragePooling2D()\n",
        "feature_batch_average = global_average_layer(feature_batch)\n",
        "print(feature_batch_average.shape)"
      ],
      "metadata": {
        "colab": {
          "base_uri": "https://localhost:8080/"
        },
        "id": "6blQ4eqJkmzp",
        "outputId": "be3c387c-10e3-462f-d922-2c9db8548682"
      },
      "id": "6blQ4eqJkmzp",
      "execution_count": 30,
      "outputs": [
        {
          "output_type": "stream",
          "name": "stdout",
          "text": [
            "(8, 2048)\n"
          ]
        }
      ]
    },
    {
      "cell_type": "code",
      "source": [
        "prediction_layer = tf.keras.layers.Dense(2, activation='softmax')\n",
        "prediction_batch = prediction_layer(feature_batch_average)\n",
        "print(prediction_batch.shape)"
      ],
      "metadata": {
        "colab": {
          "base_uri": "https://localhost:8080/"
        },
        "id": "YpTibxGNknvU",
        "outputId": "c440d277-06e8-419b-a3c0-1a934267d3c4"
      },
      "id": "YpTibxGNknvU",
      "execution_count": 31,
      "outputs": [
        {
          "output_type": "stream",
          "name": "stdout",
          "text": [
            "(8, 2)\n"
          ]
        }
      ]
    },
    {
      "cell_type": "code",
      "source": [
        "inputs = tf.keras.Input(shape=(224, 224, 3))\n",
        "x = preprocess_input(inputs)\n",
        "x = base_model(x, training=False)\n",
        "x = global_average_layer(x)\n",
        "x = tf.keras.layers.Dropout(0.2)(x)\n",
        "outputs = prediction_layer(x)\n",
        "model = tf.keras.Model(inputs, outputs)"
      ],
      "metadata": {
        "id": "g4f4m1s9kf9w"
      },
      "id": "g4f4m1s9kf9w",
      "execution_count": 32,
      "outputs": []
    },
    {
      "cell_type": "code",
      "source": [
        "base_learning_rate = 0.0001\n",
        "model.compile(optimizer=tf.keras.optimizers.Adam(learning_rate=base_learning_rate),\n",
        "              loss=tf.keras.losses.CategoricalCrossentropy(),\n",
        "              metrics=['accuracy'])"
      ],
      "metadata": {
        "id": "pSHyItoPkjgC"
      },
      "id": "pSHyItoPkjgC",
      "execution_count": 33,
      "outputs": []
    },
    {
      "cell_type": "code",
      "source": [
        "model.summary()"
      ],
      "metadata": {
        "colab": {
          "base_uri": "https://localhost:8080/"
        },
        "id": "VotdTTRPkrsM",
        "outputId": "399975a7-5d11-4a9d-8dbe-596c06b44aa6"
      },
      "id": "VotdTTRPkrsM",
      "execution_count": 34,
      "outputs": [
        {
          "output_type": "stream",
          "name": "stdout",
          "text": [
            "Model: \"model_1\"\n",
            "_________________________________________________________________\n",
            " Layer (type)                Output Shape              Param #   \n",
            "=================================================================\n",
            " input_5 (InputLayer)        [(None, 224, 224, 3)]     0         \n",
            "                                                                 \n",
            " tf.math.truediv_1 (TFOpLam  (None, 224, 224, 3)       0         \n",
            " bda)                                                            \n",
            "                                                                 \n",
            " tf.math.subtract_1 (TFOpLa  (None, 224, 224, 3)       0         \n",
            " mbda)                                                           \n",
            "                                                                 \n",
            " inception_v3 (Functional)   (None, 5, 5, 2048)        21802784  \n",
            "                                                                 \n",
            " global_average_pooling2d_2  (None, 2048)              0         \n",
            "  (GlobalAveragePooling2D)                                       \n",
            "                                                                 \n",
            " dropout_1 (Dropout)         (None, 2048)              0         \n",
            "                                                                 \n",
            " dense_1 (Dense)             (None, 2)                 4098      \n",
            "                                                                 \n",
            "=================================================================\n",
            "Total params: 21806882 (83.19 MB)\n",
            "Trainable params: 4098 (16.01 KB)\n",
            "Non-trainable params: 21802784 (83.17 MB)\n",
            "_________________________________________________________________\n"
          ]
        }
      ]
    },
    {
      "cell_type": "code",
      "source": [
        "history = model.fit(train_dataset,\n",
        "                    epochs=EPOCHS,\n",
        "                    validation_data=validation_dataset)"
      ],
      "metadata": {
        "colab": {
          "base_uri": "https://localhost:8080/"
        },
        "id": "LP3llzIcksHS",
        "outputId": "8cd0c9fb-2183-4551-adb6-f09bf37f75cd"
      },
      "id": "LP3llzIcksHS",
      "execution_count": 35,
      "outputs": [
        {
          "output_type": "stream",
          "name": "stdout",
          "text": [
            "Epoch 1/30\n",
            "202/202 [==============================] - 421s 2s/step - loss: 0.4079 - accuracy: 0.8125 - val_loss: 0.2524 - val_accuracy: 0.8996\n",
            "Epoch 2/30\n",
            "202/202 [==============================] - 170s 843ms/step - loss: 0.2212 - accuracy: 0.9230 - val_loss: 0.1885 - val_accuracy: 0.9301\n",
            "Epoch 3/30\n",
            "202/202 [==============================] - 173s 858ms/step - loss: 0.1686 - accuracy: 0.9410 - val_loss: 0.1602 - val_accuracy: 0.9541\n",
            "Epoch 4/30\n",
            "202/202 [==============================] - 170s 844ms/step - loss: 0.1452 - accuracy: 0.9522 - val_loss: 0.1455 - val_accuracy: 0.9498\n",
            "Epoch 5/30\n",
            "202/202 [==============================] - 173s 859ms/step - loss: 0.1168 - accuracy: 0.9677 - val_loss: 0.1191 - val_accuracy: 0.9672\n",
            "Epoch 6/30\n",
            "202/202 [==============================] - 168s 834ms/step - loss: 0.1049 - accuracy: 0.9665 - val_loss: 0.1253 - val_accuracy: 0.9629\n",
            "Epoch 7/30\n",
            "202/202 [==============================] - 173s 857ms/step - loss: 0.1080 - accuracy: 0.9652 - val_loss: 0.1007 - val_accuracy: 0.9651\n",
            "Epoch 8/30\n",
            "202/202 [==============================] - 169s 835ms/step - loss: 0.0891 - accuracy: 0.9721 - val_loss: 0.1018 - val_accuracy: 0.9585\n",
            "Epoch 9/30\n",
            "202/202 [==============================] - 173s 858ms/step - loss: 0.0873 - accuracy: 0.9702 - val_loss: 0.1048 - val_accuracy: 0.9520\n",
            "Epoch 10/30\n",
            "202/202 [==============================] - 173s 857ms/step - loss: 0.0797 - accuracy: 0.9777 - val_loss: 0.0864 - val_accuracy: 0.9716\n",
            "Epoch 11/30\n",
            "202/202 [==============================] - 173s 858ms/step - loss: 0.0759 - accuracy: 0.9770 - val_loss: 0.0972 - val_accuracy: 0.9585\n",
            "Epoch 12/30\n",
            "202/202 [==============================] - 173s 857ms/step - loss: 0.0722 - accuracy: 0.9808 - val_loss: 0.1112 - val_accuracy: 0.9629\n",
            "Epoch 13/30\n",
            "202/202 [==============================] - 170s 843ms/step - loss: 0.0629 - accuracy: 0.9814 - val_loss: 0.0957 - val_accuracy: 0.9651\n",
            "Epoch 14/30\n",
            "202/202 [==============================] - 176s 869ms/step - loss: 0.0704 - accuracy: 0.9789 - val_loss: 0.0668 - val_accuracy: 0.9782\n",
            "Epoch 15/30\n",
            "202/202 [==============================] - 177s 879ms/step - loss: 0.0643 - accuracy: 0.9795 - val_loss: 0.0750 - val_accuracy: 0.9760\n",
            "Epoch 16/30\n",
            "202/202 [==============================] - 174s 862ms/step - loss: 0.0619 - accuracy: 0.9826 - val_loss: 0.0669 - val_accuracy: 0.9716\n",
            "Epoch 17/30\n",
            "202/202 [==============================] - 170s 839ms/step - loss: 0.0580 - accuracy: 0.9795 - val_loss: 0.0681 - val_accuracy: 0.9803\n",
            "Epoch 18/30\n",
            "202/202 [==============================] - 173s 856ms/step - loss: 0.0628 - accuracy: 0.9770 - val_loss: 0.0760 - val_accuracy: 0.9738\n",
            "Epoch 19/30\n",
            "202/202 [==============================] - 168s 832ms/step - loss: 0.0619 - accuracy: 0.9789 - val_loss: 0.0495 - val_accuracy: 0.9891\n",
            "Epoch 20/30\n",
            "202/202 [==============================] - 173s 856ms/step - loss: 0.0568 - accuracy: 0.9808 - val_loss: 0.0970 - val_accuracy: 0.9629\n",
            "Epoch 21/30\n",
            "202/202 [==============================] - 169s 839ms/step - loss: 0.0566 - accuracy: 0.9808 - val_loss: 0.0554 - val_accuracy: 0.9803\n",
            "Epoch 22/30\n",
            "202/202 [==============================] - 173s 856ms/step - loss: 0.0494 - accuracy: 0.9845 - val_loss: 0.0817 - val_accuracy: 0.9607\n",
            "Epoch 23/30\n",
            "202/202 [==============================] - 173s 853ms/step - loss: 0.0500 - accuracy: 0.9808 - val_loss: 0.0729 - val_accuracy: 0.9716\n",
            "Epoch 24/30\n",
            "202/202 [==============================] - 168s 833ms/step - loss: 0.0508 - accuracy: 0.9845 - val_loss: 0.0828 - val_accuracy: 0.9672\n",
            "Epoch 25/30\n",
            "202/202 [==============================] - 173s 857ms/step - loss: 0.0481 - accuracy: 0.9851 - val_loss: 0.0489 - val_accuracy: 0.9803\n",
            "Epoch 26/30\n",
            "202/202 [==============================] - 169s 838ms/step - loss: 0.0465 - accuracy: 0.9826 - val_loss: 0.0552 - val_accuracy: 0.9825\n",
            "Epoch 27/30\n",
            "202/202 [==============================] - 172s 852ms/step - loss: 0.0569 - accuracy: 0.9764 - val_loss: 0.0605 - val_accuracy: 0.9694\n",
            "Epoch 28/30\n",
            "202/202 [==============================] - 172s 853ms/step - loss: 0.0451 - accuracy: 0.9894 - val_loss: 0.0498 - val_accuracy: 0.9803\n",
            "Epoch 29/30\n",
            "202/202 [==============================] - 170s 843ms/step - loss: 0.0471 - accuracy: 0.9870 - val_loss: 0.0566 - val_accuracy: 0.9782\n",
            "Epoch 30/30\n",
            "202/202 [==============================] - 165s 819ms/step - loss: 0.0395 - accuracy: 0.9882 - val_loss: 0.0419 - val_accuracy: 0.9803\n"
          ]
        }
      ]
    },
    {
      "cell_type": "code",
      "source": [
        "# history2=model.fit(train_dataset,\n",
        "#                   epochs=20,\n",
        "#                   validation_data=validation_dataset)"
      ],
      "metadata": {
        "id": "7zAFpuSdUlNG"
      },
      "id": "7zAFpuSdUlNG",
      "execution_count": null,
      "outputs": []
    },
    {
      "cell_type": "code",
      "source": [
        "score = model.evaluate(test_dataset)\n",
        "print(\"Accuracy: \",score[1])"
      ],
      "metadata": {
        "colab": {
          "base_uri": "https://localhost:8080/"
        },
        "id": "Mi0rE6T9GLL4",
        "outputId": "ab681b58-ad1c-42b6-e2b8-2161a549665c"
      },
      "id": "Mi0rE6T9GLL4",
      "execution_count": 36,
      "outputs": [
        {
          "output_type": "stream",
          "name": "stdout",
          "text": [
            "46/46 [==============================] - 100s 2s/step - loss: 0.0496 - accuracy: 0.9781\n",
            "Accuracy:  0.9780821800231934\n"
          ]
        }
      ]
    },
    {
      "cell_type": "code",
      "source": [
        "from sklearn.metrics import classification_report\n",
        "test_labels = test_dataset.classes\n",
        "predictions = model.predict(test_dataset, verbose=1)\n",
        "y_pred = np.argmax(predictions, axis=-1)\n",
        "print(classification_report(test_labels, y_pred, target_names = test_dataset.class_indices))"
      ],
      "metadata": {
        "colab": {
          "base_uri": "https://localhost:8080/"
        },
        "id": "BAiSMipwLy2N",
        "outputId": "c9f070c6-2aff-4fcf-98e7-47def3789ceb"
      },
      "id": "BAiSMipwLy2N",
      "execution_count": 37,
      "outputs": [
        {
          "output_type": "stream",
          "name": "stdout",
          "text": [
            "46/46 [==============================] - 37s 741ms/step\n",
            "              precision    recall  f1-score   support\n",
            "\n",
            "       fresh       0.98      0.99      0.98       180\n",
            "      rotten       0.99      0.98      0.98       185\n",
            "\n",
            "    accuracy                           0.98       365\n",
            "   macro avg       0.98      0.98      0.98       365\n",
            "weighted avg       0.98      0.98      0.98       365\n",
            "\n"
          ]
        }
      ]
    },
    {
      "cell_type": "code",
      "source": [
        "score = model.evaluate(test_dataset)\n",
        "print(\"Accuracy: \",score[1])"
      ],
      "metadata": {
        "colab": {
          "base_uri": "https://localhost:8080/"
        },
        "id": "4thZXn2Ok7V3",
        "outputId": "3b7026c5-cf31-41c8-d143-8160d8fc1208"
      },
      "id": "4thZXn2Ok7V3",
      "execution_count": 38,
      "outputs": [
        {
          "output_type": "stream",
          "name": "stdout",
          "text": [
            "46/46 [==============================] - 30s 649ms/step - loss: 0.0601 - accuracy: 0.9808\n",
            "Accuracy:  0.9808219075202942\n"
          ]
        }
      ]
    },
    {
      "cell_type": "code",
      "source": [
        "from matplotlib import pyplot as plt\n",
        "plt.plot(history.history['accuracy'])\n",
        "plt.plot(history.history['val_accuracy'])\n",
        "plt.title('model accuracy')\n",
        "plt.ylabel('accuracy')\n",
        "plt.xlabel('epoch')\n",
        "plt.legend(['train', 'val'], loc='upper left')\n",
        "plt.show()"
      ],
      "metadata": {
        "colab": {
          "base_uri": "https://localhost:8080/",
          "height": 472
        },
        "id": "mcVSVBuXtEtJ",
        "outputId": "f05b6579-0686-4b57-84c7-b9abbd3c0860"
      },
      "id": "mcVSVBuXtEtJ",
      "execution_count": 39,
      "outputs": [
        {
          "output_type": "display_data",
          "data": {
            "text/plain": [
              "<Figure size 640x480 with 1 Axes>"
            ],
            "image/png": "[encoded data removed]"
          },
          "metadata": {}
        }
      ]
    },
    {
      "cell_type": "code",
      "source": [
        "plt.plot(history.history['loss'])\n",
        "plt.plot(history.history['val_loss'])\n",
        "plt.title('model loss')\n",
        "plt.ylabel('loss')\n",
        "plt.xlabel('epoch')\n",
        "plt.legend(['train', 'val'], loc='upper left')\n",
        "plt.show()"
      ],
      "metadata": {
        "colab": {
          "base_uri": "https://localhost:8080/",
          "height": 472
        },
        "id": "ofcjJGCXtHL7",
        "outputId": "4db5f1d6-ff37-4737-86d1-e28d9657d117"
      },
      "id": "ofcjJGCXtHL7",
      "execution_count": 40,
      "outputs": [
        {
          "output_type": "display_data",
          "data": {
            "text/plain": [
              "<Figure size 640x480 with 1 Axes>"
            ],
            "image/png": "[encoded data removed]"
          },
          "metadata": {}
        }
      ]
    },
    {
      "cell_type": "code",
      "source": [],
      "metadata": {
        "id": "raZNfTlptK34"
      },
      "id": "raZNfTlptK34",
      "execution_count": null,
      "outputs": []
    }
  ],
  "metadata": {
    "kernelspec": {
      "display_name": "Python 3",
      "language": "python",
      "name": "python3"
    },
    "language_info": {
      "codemirror_mode": {
        "name": "ipython",
        "version": 3
      },
      "file_extension": ".py",
      "mimetype": "text/x-python",
      "name": "python",
      "nbconvert_exporter": "python",
      "pygments_lexer": "ipython3",
      "version": "3.8.8"
    },
    "colab": {
      "provenance": [],
      "include_colab_link": true
    }
  },
  "nbformat": 4,
  "nbformat_minor": 5
}