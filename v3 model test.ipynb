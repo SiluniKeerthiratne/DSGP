{
  "nbformat": 4,
  "nbformat_minor": 0,
  "metadata": {
    "colab": {
      "provenance": [],
      "authorship_tag": "ABX9TyNUo6wOdQZYPfPu3A6oTKRB",
      "include_colab_link": true
    },
    "kernelspec": {
      "name": "python3",
      "display_name": "Python 3"
    },
    "language_info": {
      "name": "python"
    },
    "accelerator": "TPU"
  },
  "cells": [
    {
      "cell_type": "markdown",
      "metadata": {
        "id": "view-in-github",
        "colab_type": "text"
      },
      "source": [
        "<a href=\"https://colab.research.google.com/github/SiluniKeerthiratne/DSGP/blob/nisal/v3%20model%20test.ipynb\" target=\"_parent\"><img src=\"https://colab.research.google.com/assets/colab-badge.svg\" alt=\"Open In Colab\"/></a>"
      ]
    },
    {
      "cell_type": "code",
      "source": [
        "from google.colab import drive\n",
        "drive.mount('/content/drive')"
      ],
      "metadata": {
        "colab": {
          "base_uri": "https://localhost:8080/"
        },
        "id": "4qtPUoTiSemL",
        "outputId": "c14bd4bb-f222-4674-bc31-4d7ba9ce81bf"
      },
      "execution_count": 53,
      "outputs": [
        {
          "output_type": "stream",
          "name": "stdout",
          "text": [
            "Drive already mounted at /content/drive; to attempt to forcibly remount, call drive.mount(\"/content/drive\", force_remount=True).\n"
          ]
        }
      ]
    },
    {
      "cell_type": "code",
      "source": [
        "import cv2\n",
        "import numpy as np\n",
        "from keras.models import load_model"
      ],
      "metadata": {
        "id": "2HL92IDwZlKm"
      },
      "execution_count": 57,
      "outputs": []
    },
    {
      "cell_type": "code",
      "source": [
        "# Load the saved model\n",
        "loaded_model = load_model('/content/drive/MyDrive/ColabNotebooks/fruit-dta/trained_model.h5')"
      ],
      "metadata": {
        "id": "y0tM9VWtZmaS"
      },
      "execution_count": 58,
      "outputs": []
    },
    {
      "cell_type": "code",
      "source": [
        "# Function to preprocess the input image\n",
        "def preprocess_image(image_path):\n",
        "    img = cv2.imread(image_path)\n",
        "    img = cv2.resize(img, (244, 244))\n",
        "    img = np.expand_dims(img, axis=0)  # Add batch dimension\n",
        "    return img"
      ],
      "metadata": {
        "id": "RkvCgIJiZn3A"
      },
      "execution_count": 59,
      "outputs": []
    },
    {
      "cell_type": "code",
      "source": [
        "# Function to predict ripeness class\n",
        "def predict_ripeness(image_path):\n",
        "    preprocessed_img = preprocess_image(image_path)\n",
        "    predictions = loaded_model.predict(preprocessed_img)\n",
        "    predicted_class_index = np.argmax(predictions)\n",
        "    return predicted_class_index"
      ],
      "metadata": {
        "id": "zUhT0WAqZpd1"
      },
      "execution_count": 60,
      "outputs": []
    },
    {
      "cell_type": "code",
      "source": [
        "# Test the model with an example image\n",
        "example_image_path = '/content/drive/MyDrive/ColabNotebooks/fruit-dta/mango/0 unripe/IMG20200713141551.jpg'  # Replace with the actual path to your test image\n",
        "predicted_class_index = predict_ripeness(example_image_path)"
      ],
      "metadata": {
        "colab": {
          "base_uri": "https://localhost:8080/"
        },
        "id": "nBHYIg4DZr4N",
        "outputId": "9c9f2159-9a1f-484e-812d-55501bef82ca"
      },
      "execution_count": 61,
      "outputs": [
        {
          "output_type": "stream",
          "name": "stdout",
          "text": [
            "1/1 [==============================] - 2s 2s/step\n"
          ]
        }
      ]
    },
    {
      "cell_type": "code",
      "source": [
        "# Map the predicted class index to the ripeness class label\n",
        "ripeness_classes = ['Unripe', 'Partially Ripe', 'Ripe']\n",
        "predicted_ripeness_class = ripeness_classes[predicted_class_index]"
      ],
      "metadata": {
        "id": "vDTjFx7HZtpP"
      },
      "execution_count": 64,
      "outputs": []
    },
    {
      "cell_type": "code",
      "source": [
        "# Display the result\n",
        "print(f\"The predicted ripeness class is: {predicted_ripeness_class}\")"
      ],
      "metadata": {
        "colab": {
          "base_uri": "https://localhost:8080/"
        },
        "id": "YaJzttClZxeF",
        "outputId": "6b6be965-631c-41bf-aac7-29308dd50a29"
      },
      "execution_count": 65,
      "outputs": [
        {
          "output_type": "stream",
          "name": "stdout",
          "text": [
            "The predicted ripeness class is: Unripe\n"
          ]
        }
      ]
    }
  ]
}