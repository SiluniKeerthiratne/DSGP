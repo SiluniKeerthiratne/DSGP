{
  "cells": [
    {
      "cell_type": "markdown",
      "metadata": {
        "id": "view-in-github",
        "colab_type": "text"
      },
      "source": [
        "<a href=\"https://colab.research.google.com/github/SiluniKeerthiratne/DSGP/blob/siluni/inceptionv3_(_1).ipynb\" target=\"_parent\"><img src=\"https://colab.research.google.com/assets/colab-badge.svg\" alt=\"Open In Colab\"/></a>"
      ]
    },
    {
      "cell_type": "markdown",
      "source": [
        "# Train #1\n",
        "*   Trained on 1611 images (2/5 apple,banna)\n",
        "*   Accuracy 0.98\n",
        "\n",
        "\n"
      ],
      "metadata": {
        "id": "x96W4lzoVEh5"
      },
      "id": "x96W4lzoVEh5"
    },
    {
      "cell_type": "code",
      "execution_count": null,
      "id": "477c4a1f",
      "metadata": {
        "colab": {
          "base_uri": "https://localhost:8080/"
        },
        "id": "477c4a1f",
        "outputId": "b3d65e68-d9f6-4f6d-bf80-7dd47cc5ab32"
      },
      "outputs": [
        {
          "output_type": "stream",
          "name": "stdout",
          "text": [
            "Mounted at /content/drive/\n"
          ]
        }
      ],
      "source": [
        "from google.colab import drive\n",
        "drive.mount('/content/drive/')"
      ]
    },
    {
      "cell_type": "code",
      "source": [
        "import numpy as np\n",
        "from keras.models import Model\n",
        "from keras.callbacks import ModelCheckpoint, EarlyStopping, ReduceLROnPlateau\n",
        "from tensorflow.keras.optimizers import Adam\n",
        "from keras.preprocessing.image import ImageDataGenerator\n",
        "import tensorflow as tf\n",
        "from tensorflow.keras import models,layers\n",
        "import matplotlib.pyplot as plt"
      ],
      "metadata": {
        "id": "eKLdv_4xkRwM"
      },
      "id": "eKLdv_4xkRwM",
      "execution_count": null,
      "outputs": []
    },
    {
      "cell_type": "code",
      "source": [
        "path = \"/content/drive/MyDrive/DSGPDevelopment/dataset\"\n",
        "\n",
        "img_size =  (224,224,3)\n",
        "IMG_SIZE = (224, 224)\n",
        "BATCH_SIZE = 8\n",
        "EPOCHS = 3\n",
        "\n"
      ],
      "metadata": {
        "id": "dcuv9AOrkRzc"
      },
      "id": "dcuv9AOrkRzc",
      "execution_count": null,
      "outputs": []
    },
    {
      "cell_type": "code",
      "source": [
        "import os\n",
        "from sklearn.model_selection import train_test_split\n",
        "from tensorflow.keras.preprocessing.image import ImageDataGenerator\n",
        "import pandas as pd\n",
        "\n",
        "\n",
        "\n",
        "# Define paths\n",
        "\n",
        "\n",
        "# Define data augmentation parameters\n",
        "datagen = ImageDataGenerator(\n",
        "    rotation_range=40,\n",
        "    width_shift_range=0.2,\n",
        "    height_shift_range=0.2,\n",
        "    shear_range=0.2,\n",
        "    zoom_range=0.2,\n",
        "    channel_shift_range=10,\n",
        "    horizontal_flip=True,\n",
        "    fill_mode='nearest'\n",
        ")\n",
        "\n",
        "# Get list of directories in train_path\n",
        "classes = [cls for cls in os.listdir(path) if os.path.isdir(os.path.join(path, cls))]\n",
        "\n",
        "train_data = []\n",
        "for cls in classes:\n",
        "    cls_path = os.path.join(path, cls)\n",
        "    imgs = [os.path.join(cls_path, img) for img in os.listdir(cls_path)]\n",
        "    train_data.extend([(img, cls) for img in imgs])\n",
        "\n",
        "train_files, test_files = train_test_split(train_data, test_size=0.2, random_state=42)\n",
        "train_files, val_files = train_test_split(train_files, test_size=0.1, random_state=42)\n",
        "\n",
        "\n",
        "# Convert file paths and labels to DataFrame\n",
        "train_df = pd.DataFrame(train_files, columns=['filename', 'class'])\n",
        "val_df = pd.DataFrame(val_files, columns=['filename', 'class'])\n",
        "test_df = pd.DataFrame(test_files, columns=['filename', 'class'])\n",
        "\n",
        "# Create generators\n",
        "BATCH_SIZE = 32\n",
        "train_dataset = datagen.flow_from_dataframe(\n",
        "    dataframe=train_df,\n",
        "    directory=None,  # Assuming full paths are provided in 'filename'\n",
        "    x_col='filename',\n",
        "    y_col='class',\n",
        "    color_mode = \"rgb\",\n",
        "    target_size = (224,224),\n",
        "    interpolation = 'bicubic',\n",
        "    class_mode = \"categorical\",\n",
        "    shuffle = True,\n",
        "    batch_size = BATCH_SIZE\n",
        ")\n",
        "\n",
        "validation_dataset = datagen.flow_from_dataframe(\n",
        "    dataframe=val_df,\n",
        "    directory=None,  # Assuming full paths are provided in 'filename'\n",
        "    x_col='filename',\n",
        "    y_col='class',\n",
        "    color_mode = \"rgb\",\n",
        "    target_size = (224,224),\n",
        "    interpolation = 'bicubic',\n",
        "    class_mode = \"categorical\",\n",
        "    shuffle = True,\n",
        "    batch_size = BATCH_SIZE\n",
        ")\n",
        "\n",
        "test_dataset = datagen.flow_from_dataframe(\n",
        "    dataframe=test_df,\n",
        "    directory=None,  # Assuming full paths are provided in 'filename'\n",
        "    x_col='filename',\n",
        "    y_col='class',\n",
        "    color_mode = \"rgb\",\n",
        "    target_size = (224,224),\n",
        "    interpolation = 'bicubic',\n",
        "    class_mode = \"categorical\",\n",
        "    shuffle = True,\n",
        "    batch_size = BATCH_SIZE\n",
        "    )\n",
        "\n",
        "\n"
      ],
      "metadata": {
        "colab": {
          "base_uri": "https://localhost:8080/"
        },
        "id": "xoPDHFI1-hGh",
        "outputId": "650bbed3-634d-4d61-c09d-2efc6fbebbca"
      },
      "id": "xoPDHFI1-hGh",
      "execution_count": null,
      "outputs": [
        {
          "output_type": "stream",
          "name": "stdout",
          "text": [
            "Found 9605 validated image filenames belonging to 2 classes.\n"
          ]
        },
        {
          "output_type": "stream",
          "name": "stderr",
          "text": [
            "/usr/local/lib/python3.10/dist-packages/keras/src/preprocessing/image.py:1137: UserWarning: Found 3 invalid image filename(s) in x_col=\"filename\". These filename(s) will be ignored.\n",
            "  warnings.warn(\n"
          ]
        },
        {
          "output_type": "stream",
          "name": "stdout",
          "text": [
            "Found 1068 validated image filenames belonging to 2 classes.\n",
            "Found 2669 validated image filenames belonging to 2 classes.\n"
          ]
        },
        {
          "output_type": "stream",
          "name": "stderr",
          "text": [
            "/usr/local/lib/python3.10/dist-packages/keras/src/preprocessing/image.py:1137: UserWarning: Found 1 invalid image filename(s) in x_col=\"filename\". These filename(s) will be ignored.\n",
            "  warnings.warn(\n"
          ]
        }
      ]
    },
    {
      "cell_type": "code",
      "source": [
        "import tensorflow as tf\n",
        "preprocess_input = tf.keras.applications.inception_v3.preprocess_input"
      ],
      "metadata": {
        "id": "kzyURwGwkXgm"
      },
      "id": "kzyURwGwkXgm",
      "execution_count": null,
      "outputs": []
    },
    {
      "cell_type": "code",
      "source": [
        "IMG_SHAPE = IMG_SIZE + (3,)\n",
        "base_model = tf.keras.applications.inception_v3.InceptionV3(input_shape=IMG_SHAPE,\n",
        "                                               include_top=False,\n",
        "                                               weights='imagenet')"
      ],
      "metadata": {
        "id": "GwhaSquJkZPe",
        "colab": {
          "base_uri": "https://localhost:8080/"
        },
        "outputId": "68527682-a080-4ad2-ddb0-d5308bf9cbfd"
      },
      "id": "GwhaSquJkZPe",
      "execution_count": null,
      "outputs": [
        {
          "output_type": "stream",
          "name": "stdout",
          "text": [
            "Downloading data from https://storage.googleapis.com/tensorflow/keras-applications/inception_v3/inception_v3_weights_tf_dim_ordering_tf_kernels_notop.h5\n",
            "87910968/87910968 [==============================] - 0s 0us/step\n"
          ]
        }
      ]
    },
    {
      "cell_type": "code",
      "source": [
        "base_model.trainable = False\n",
        "image_batch, label_batch = next(iter(train_dataset))\n",
        "feature_batch = base_model(image_batch)\n",
        "print(feature_batch.shape)"
      ],
      "metadata": {
        "colab": {
          "base_uri": "https://localhost:8080/"
        },
        "id": "ZV6XlrLikbmI",
        "outputId": "0f0ff20f-e310-4399-f59a-a7d94b4006fa"
      },
      "id": "ZV6XlrLikbmI",
      "execution_count": null,
      "outputs": [
        {
          "output_type": "stream",
          "name": "stdout",
          "text": [
            "(32, 5, 5, 2048)\n"
          ]
        }
      ]
    },
    {
      "cell_type": "code",
      "source": [
        "global_average_layer = tf.keras.layers.GlobalAveragePooling2D()\n",
        "feature_batch_average = global_average_layer(feature_batch)\n",
        "print(feature_batch_average.shape)"
      ],
      "metadata": {
        "colab": {
          "base_uri": "https://localhost:8080/"
        },
        "id": "6blQ4eqJkmzp",
        "outputId": "1e9860f2-ee17-43b0-b38f-fc0b2aff009a"
      },
      "id": "6blQ4eqJkmzp",
      "execution_count": null,
      "outputs": [
        {
          "output_type": "stream",
          "name": "stdout",
          "text": [
            "(32, 2048)\n"
          ]
        }
      ]
    },
    {
      "cell_type": "code",
      "source": [
        "prediction_layer = tf.keras.layers.Dense(2, activation='softmax')\n",
        "prediction_batch = prediction_layer(feature_batch_average)\n",
        "print(prediction_batch.shape)"
      ],
      "metadata": {
        "colab": {
          "base_uri": "https://localhost:8080/"
        },
        "id": "YpTibxGNknvU",
        "outputId": "5ef500e3-6412-415f-b68a-c9acb9062052"
      },
      "id": "YpTibxGNknvU",
      "execution_count": null,
      "outputs": [
        {
          "output_type": "stream",
          "name": "stdout",
          "text": [
            "(32, 2)\n"
          ]
        }
      ]
    },
    {
      "cell_type": "code",
      "source": [
        "inputs = tf.keras.Input(shape=(224, 224, 3))\n",
        "x = preprocess_input(inputs)\n",
        "x = base_model(x, training=False)\n",
        "x = global_average_layer(x)\n",
        "x = tf.keras.layers.Dropout(0.2)(x)\n",
        "outputs = prediction_layer(x)\n",
        "model = tf.keras.Model(inputs, outputs)"
      ],
      "metadata": {
        "id": "g4f4m1s9kf9w"
      },
      "id": "g4f4m1s9kf9w",
      "execution_count": null,
      "outputs": []
    },
    {
      "cell_type": "code",
      "source": [
        "base_learning_rate = 0.0001\n",
        "model.compile(optimizer=tf.keras.optimizers.Adam(learning_rate=base_learning_rate),\n",
        "              loss=tf.keras.losses.CategoricalCrossentropy(),\n",
        "              metrics=['accuracy'])"
      ],
      "metadata": {
        "id": "pSHyItoPkjgC"
      },
      "id": "pSHyItoPkjgC",
      "execution_count": null,
      "outputs": []
    },
    {
      "cell_type": "code",
      "source": [
        "model.summary()"
      ],
      "metadata": {
        "colab": {
          "base_uri": "https://localhost:8080/"
        },
        "id": "VotdTTRPkrsM",
        "outputId": "ea75c361-626d-4fb2-e831-9ee6963da903"
      },
      "id": "VotdTTRPkrsM",
      "execution_count": null,
      "outputs": [
        {
          "output_type": "stream",
          "name": "stdout",
          "text": [
            "Model: \"model\"\n",
            "_________________________________________________________________\n",
            " Layer (type)                Output Shape              Param #   \n",
            "=================================================================\n",
            " input_2 (InputLayer)        [(None, 224, 224, 3)]     0         \n",
            "                                                                 \n",
            " tf.math.truediv (TFOpLambd  (None, 224, 224, 3)       0         \n",
            " a)                                                              \n",
            "                                                                 \n",
            " tf.math.subtract (TFOpLamb  (None, 224, 224, 3)       0         \n",
            " da)                                                             \n",
            "                                                                 \n",
            " inception_v3 (Functional)   (None, 5, 5, 2048)        21802784  \n",
            "                                                                 \n",
            " global_average_pooling2d (  (None, 2048)              0         \n",
            " GlobalAveragePooling2D)                                         \n",
            "                                                                 \n",
            " dropout (Dropout)           (None, 2048)              0         \n",
            "                                                                 \n",
            " dense (Dense)               (None, 2)                 4098      \n",
            "                                                                 \n",
            "=================================================================\n",
            "Total params: 21806882 (83.19 MB)\n",
            "Trainable params: 4098 (16.01 KB)\n",
            "Non-trainable params: 21802784 (83.17 MB)\n",
            "_________________________________________________________________\n"
          ]
        }
      ]
    },
    {
      "cell_type": "code",
      "source": [
        "history = model.fit(train_dataset,\n",
        "                    epochs=15,\n",
        "                    validation_data=validation_dataset)"
      ],
      "metadata": {
        "colab": {
          "base_uri": "https://localhost:8080/"
        },
        "id": "LP3llzIcksHS",
        "outputId": "d20406ba-484a-49d7-8ccd-1153ed80d7f9"
      },
      "id": "LP3llzIcksHS",
      "execution_count": null,
      "outputs": [
        {
          "output_type": "stream",
          "name": "stdout",
          "text": [
            "Epoch 1/15\n",
            "301/301 [==============================] - 1080s 4s/step - loss: 0.3526 - accuracy: 0.8488 - val_loss: 0.2431 - val_accuracy: 0.9148\n",
            "Epoch 2/15\n",
            "301/301 [==============================] - 252s 838ms/step - loss: 0.2478 - accuracy: 0.9057 - val_loss: 0.1977 - val_accuracy: 0.9260\n",
            "Epoch 3/15\n",
            "301/301 [==============================] - 266s 883ms/step - loss: 0.2155 - accuracy: 0.9184 - val_loss: 0.1770 - val_accuracy: 0.9298\n",
            "Epoch 4/15\n",
            "301/301 [==============================] - 264s 877ms/step - loss: 0.1894 - accuracy: 0.9283 - val_loss: 0.1665 - val_accuracy: 0.9373\n",
            "Epoch 5/15\n",
            "301/301 [==============================] - 242s 804ms/step - loss: 0.1767 - accuracy: 0.9340 - val_loss: 0.1451 - val_accuracy: 0.9513\n",
            "Epoch 6/15\n",
            "301/301 [==============================] - 259s 862ms/step - loss: 0.1602 - accuracy: 0.9412 - val_loss: 0.1380 - val_accuracy: 0.9551\n",
            "Epoch 7/15\n",
            "301/301 [==============================] - 243s 806ms/step - loss: 0.1585 - accuracy: 0.9413 - val_loss: 0.1452 - val_accuracy: 0.9448\n",
            "Epoch 8/15\n",
            "301/301 [==============================] - 261s 868ms/step - loss: 0.1422 - accuracy: 0.9482 - val_loss: 0.1299 - val_accuracy: 0.9532\n",
            "Epoch 9/15\n",
            "301/301 [==============================] - 242s 805ms/step - loss: 0.1416 - accuracy: 0.9466 - val_loss: 0.1257 - val_accuracy: 0.9485\n",
            "Epoch 10/15\n",
            "301/301 [==============================] - 248s 826ms/step - loss: 0.1380 - accuracy: 0.9486 - val_loss: 0.1241 - val_accuracy: 0.9560\n",
            "Epoch 11/15\n",
            "301/301 [==============================] - 243s 808ms/step - loss: 0.1287 - accuracy: 0.9527 - val_loss: 0.1255 - val_accuracy: 0.9597\n",
            "Epoch 12/15\n",
            "301/301 [==============================] - 245s 813ms/step - loss: 0.1301 - accuracy: 0.9517 - val_loss: 0.0999 - val_accuracy: 0.9691\n",
            "Epoch 13/15\n",
            "301/301 [==============================] - 244s 808ms/step - loss: 0.1314 - accuracy: 0.9508 - val_loss: 0.1162 - val_accuracy: 0.9513\n",
            "Epoch 14/15\n",
            "301/301 [==============================] - 243s 807ms/step - loss: 0.1258 - accuracy: 0.9538 - val_loss: 0.1064 - val_accuracy: 0.9588\n",
            "Epoch 15/15\n",
            "301/301 [==============================] - 241s 801ms/step - loss: 0.1171 - accuracy: 0.9566 - val_loss: 0.1050 - val_accuracy: 0.9654\n"
          ]
        }
      ]
    },
    {
      "cell_type": "code",
      "source": [
        "# history2=model.fit(train_dataset,\n",
        "#                   epochs=20,\n",
        "#                   validation_data=validation_dataset)"
      ],
      "metadata": {
        "id": "7zAFpuSdUlNG"
      },
      "id": "7zAFpuSdUlNG",
      "execution_count": null,
      "outputs": []
    },
    {
      "cell_type": "code",
      "source": [
        "score = model.evaluate(test_dataset)\n",
        "print(\"Accuracy: \",score[1])"
      ],
      "metadata": {
        "colab": {
          "base_uri": "https://localhost:8080/"
        },
        "id": "Mi0rE6T9GLL4",
        "outputId": "ed920702-958c-460a-86b9-4abd30346fe6"
      },
      "id": "Mi0rE6T9GLL4",
      "execution_count": null,
      "outputs": [
        {
          "output_type": "stream",
          "name": "stdout",
          "text": [
            "84/84 [==============================] - 407s 5s/step - loss: 0.0999 - accuracy: 0.9659\n",
            "Accuracy:  0.9659048318862915\n"
          ]
        }
      ]
    },
    {
      "cell_type": "code",
      "source": [
        "from sklearn.metrics import classification_report\n",
        "test_labels = test_dataset.classes\n",
        "predictions = model.predict(test_dataset, verbose=1)\n",
        "y_pred = np.argmax(predictions, axis=-1)\n",
        "print(classification_report(test_labels, y_pred, target_names = test_dataset.class_indices))"
      ],
      "metadata": {
        "colab": {
          "base_uri": "https://localhost:8080/"
        },
        "id": "BAiSMipwLy2N",
        "outputId": "c17746d2-a8b4-415d-f719-4b8ea6589103"
      },
      "id": "BAiSMipwLy2N",
      "execution_count": null,
      "outputs": [
        {
          "output_type": "stream",
          "name": "stdout",
          "text": [
            "84/84 [==============================] - 62s 714ms/step\n",
            "              precision    recall  f1-score   support\n",
            "\n",
            "       Fresh       0.43      0.43      0.43      1179\n",
            "      Rotten       0.55      0.55      0.55      1490\n",
            "\n",
            "    accuracy                           0.50      2669\n",
            "   macro avg       0.49      0.49      0.49      2669\n",
            "weighted avg       0.50      0.50      0.50      2669\n",
            "\n"
          ]
        }
      ]
    },
    {
      "cell_type": "code",
      "source": [
        "score = model.evaluate(test_dataset)\n",
        "print(\"Accuracy: \",score[1])"
      ],
      "metadata": {
        "colab": {
          "base_uri": "https://localhost:8080/"
        },
        "id": "4thZXn2Ok7V3",
        "outputId": "8e161a0a-5186-47ae-807c-15363ea6c21a"
      },
      "id": "4thZXn2Ok7V3",
      "execution_count": null,
      "outputs": [
        {
          "output_type": "stream",
          "name": "stdout",
          "text": [
            "84/84 [==============================] - 60s 711ms/step - loss: 0.1006 - accuracy: 0.9633\n",
            "Accuracy:  0.9632821083068848\n"
          ]
        }
      ]
    },
    {
      "cell_type": "code",
      "source": [
        "from matplotlib import pyplot as plt\n",
        "plt.plot(history.history['accuracy'])\n",
        "plt.plot(history.history['val_accuracy'])\n",
        "plt.title('model accuracy')\n",
        "plt.ylabel('accuracy')\n",
        "plt.xlabel('epoch')\n",
        "plt.legend(['train', 'val'], loc='upper left')\n",
        "plt.show()"
      ],
      "metadata": {
        "colab": {
          "base_uri": "https://localhost:8080/",
          "height": 472
        },
        "id": "mcVSVBuXtEtJ",
        "outputId": "b704279c-3ceb-4ac4-b350-7083e03532cf"
      },
      "id": "mcVSVBuXtEtJ",
      "execution_count": null,
      "outputs": [
        {
          "output_type": "display_data",
          "data": {
            "text/plain": [
              "<Figure size 640x480 with 1 Axes>"
            ],
            "image/png": "[encoded data removed]"
          },
          "metadata": {}
        }
      ]
    },
    {
      "cell_type": "code",
      "source": [
        "plt.plot(history.history['loss'])\n",
        "plt.plot(history.history['val_loss'])\n",
        "plt.title('model loss')\n",
        "plt.ylabel('loss')\n",
        "plt.xlabel('epoch')\n",
        "plt.legend(['train', 'val'], loc='upper left')\n",
        "plt.show()"
      ],
      "metadata": {
        "colab": {
          "base_uri": "https://localhost:8080/",
          "height": 472
        },
        "id": "ofcjJGCXtHL7",
        "outputId": "5f5b5d4a-c7fd-4114-919d-cce21562500d"
      },
      "id": "ofcjJGCXtHL7",
      "execution_count": null,
      "outputs": [
        {
          "output_type": "display_data",
          "data": {
            "text/plain": [
              "<Figure size 640x480 with 1 Axes>"
            ],
            "image/png": "[encoded data removed]"
          },
          "metadata": {}
        }
      ]
    },
    {
      "cell_type": "code",
      "source": [
        "import pickle"
      ],
      "metadata": {
        "id": "raZNfTlptK34"
      },
      "id": "raZNfTlptK34",
      "execution_count": null,
      "outputs": []
    },
    {
      "cell_type": "code",
      "source": [
        "pickle.dump(model, open('model2.pk1','wb'))"
      ],
      "metadata": {
        "id": "EsVwbhtoOC5f"
      },
      "id": "EsVwbhtoOC5f",
      "execution_count": null,
      "outputs": []
    }
  ],
  "metadata": {
    "kernelspec": {
      "display_name": "Python 3",
      "name": "python3"
    },
    "language_info": {
      "codemirror_mode": {
        "name": "ipython",
        "version": 3
      },
      "file_extension": ".py",
      "mimetype": "text/x-python",
      "name": "python",
      "nbconvert_exporter": "python",
      "pygments_lexer": "ipython3",
      "version": "3.8.8"
    },
    "colab": {
      "provenance": [],
      "gpuType": "T4",
      "include_colab_link": true
    },
    "accelerator": "GPU"
  },
  "nbformat": 4,
  "nbformat_minor": 5
}