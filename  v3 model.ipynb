{
  "cells": [
    {
      "cell_type": "markdown",
      "metadata": {
        "id": "view-in-github",
        "colab_type": "text"
      },
      "source": [
        "<a href=\"https://colab.research.google.com/github/SiluniKeerthiratne/DSGP/blob/nisal/%20v3%20model.ipynb\" target=\"_parent\"><img src=\"https://colab.research.google.com/assets/colab-badge.svg\" alt=\"Open In Colab\"/></a>"
      ]
    },
    {
      "cell_type": "code",
      "source": [
        "# from google.colab import drive\n",
        "# drive.mount('/content/drive')"
      ],
      "metadata": {
        "colab": {
          "base_uri": "https://localhost:8080/"
        },
        "id": "CZIuEyaJO3dG",
        "outputId": "3e938c37-8ce4-49ec-9a58-8ca10ca931b0"
      },
      "id": "CZIuEyaJO3dG",
      "execution_count": null,
      "outputs": [
        {
          "output_type": "stream",
          "name": "stdout",
          "text": [
            "Mounted at /content/drive\n"
          ]
        }
      ]
    },
    {
      "cell_type": "code",
      "source": [
        "# Imports\n",
        "import tensorflow as tf\n",
        "import os\n",
        "import cv2\n",
        "from tqdm import tqdm\n",
        "from sklearn.model_selection import train_test_split\n",
        "from keras.applications import InceptionV3\n",
        "from keras.models import Model\n",
        "from keras.layers import GlobalAveragePooling2D, Dense, Dropout\n",
        "from keras import regularizers\n",
        "import numpy as np\n",
        "from sklearn.metrics import classification_report"
      ],
      "metadata": {
        "id": "HyfSLgCIQh0Y"
      },
      "id": "HyfSLgCIQh0Y",
      "execution_count": null,
      "outputs": []
    },
    {
      "cell_type": "code",
      "source": [
        "# Constants\n",
        "ROOT_DIR = r'C:\\Users\\nisal\\Notebooks/fruit-dta'\n",
        "FRUIT_CLASSES = ['banana', 'mango', 'tomato']\n",
        "RIPENESS_CLASSES = ['0 unripe', '1 partially ripe', '2 ripe']\n",
        "IMG_ROWS, IMG_COLS = 244, 244\n",
        "NUM_CLASSES = len(RIPENESS_CLASSES)"
      ],
      "metadata": {
        "id": "_3j3YB_inpUv"
      },
      "id": "_3j3YB_inpUv",
      "execution_count": null,
      "outputs": []
    },
    {
      "cell_type": "code",
      "source": [
        "# Function to load and preprocess images\n",
        "def load_images():\n",
        "    X = []\n",
        "    y = []\n",
        "    for fruit_class in FRUIT_CLASSES:\n",
        "        for ripeness_class_label, ripeness_class in enumerate(RIPENESS_CLASSES):\n",
        "            class_path = os.path.join(ROOT_DIR, fruit_class, ripeness_class)\n",
        "            for img_name in tqdm(os.listdir(class_path), desc=f\"Loading {fruit_class}/{ripeness_class}\"):\n",
        "                img_path = os.path.join(class_path, img_name)\n",
        "                img = cv2.imread(img_path)\n",
        "                img = cv2.resize(img, (IMG_ROWS, IMG_COLS))\n",
        "                X.append(img)\n",
        "                y.append(ripeness_class_label)\n",
        "    return X, y"
      ],
      "metadata": {
        "id": "b30fw-A5nq93"
      },
      "id": "b30fw-A5nq93",
      "execution_count": null,
      "outputs": []
    },
    {
      "cell_type": "code",
      "source": [
        "# Load and preprocess images\n",
        "X, y = load_images()"
      ],
      "metadata": {
        "id": "UDEnXDy8nswS"
      },
      "id": "UDEnXDy8nswS",
      "execution_count": null,
      "outputs": []
    },
    {
      "cell_type": "code",
      "source": [
        "# Split the data into training and testing sets\n",
        "X_train, X_test, y_train, y_test = train_test_split(X, y, test_size=0.20, random_state=42)"
      ],
      "metadata": {
        "id": "5DSC8lsRnuYC"
      },
      "id": "5DSC8lsRnuYC",
      "execution_count": null,
      "outputs": []
    },
    {
      "cell_type": "code",
      "source": [
        "# Convert to NumPy arrays\n",
        "X_train = np.array(X_train)\n",
        "y_train = np.array(y_train)\n",
        "X_test = np.array(X_test)\n",
        "y_test = np.array(y_test)\n",
        "\n",
        "# Print data shapes\n",
        "print(\"X_train Shape:\", X_train.shape)\n",
        "print(\"y_train Shape:\", y_train.shape)\n",
        "print(\"X_test Shape:\", X_test.shape)\n",
        "print(\"y_test Shape:\", y_test.shape)"
      ],
      "metadata": {
        "id": "magHebQinv_L"
      },
      "id": "magHebQinv_L",
      "execution_count": null,
      "outputs": []
    },
    {
      "cell_type": "code",
      "source": [
        "# Load InceptionV3 model with pre-trained weights\n",
        "inception = InceptionV3(weights='imagenet', include_top=False, input_shape=(IMG_ROWS, IMG_COLS, 3))"
      ],
      "metadata": {
        "id": "dNX4eZupnxg8"
      },
      "id": "dNX4eZupnxg8",
      "execution_count": null,
      "outputs": []
    },
    {
      "cell_type": "code",
      "source": [
        "# Freeze the layers\n",
        "for layer in inception.layers:\n",
        "    layer.trainable = False\n",
        "\n",
        "# Custom head for the model\n",
        "def custom_head(bottom_model, num_classes):\n",
        "    top_model = bottom_model.output\n",
        "    top_model = GlobalAveragePooling2D()(top_model)\n",
        "    top_model = Dense(1024, activation='relu')(top_model)\n",
        "    top_model = Dense(512, activation='relu')(top_model)\n",
        "    top_model = Dense(128, activation='relu', kernel_regularizer=regularizers.l2(0.01))(top_model)\n",
        "    top_model = Dropout(0.5)(top_model)\n",
        "    top_model = Dense(num_classes, activation='softmax')(top_model)\n",
        "    return top_model\n",
        "\n",
        "# Add custom head on top of InceptionV3\n",
        "FC_Head = custom_head(inception, NUM_CLASSES)\n",
        "model = Model(inputs=inception.input, outputs=FC_Head)"
      ],
      "metadata": {
        "id": "SxVo6HTdnzMg"
      },
      "id": "SxVo6HTdnzMg",
      "execution_count": null,
      "outputs": []
    },
    {
      "cell_type": "code",
      "source": [
        "# Model summary\n",
        "print(model.summary())"
      ],
      "metadata": {
        "id": "KkkflxqGn1MJ"
      },
      "id": "KkkflxqGn1MJ",
      "execution_count": null,
      "outputs": []
    },
    {
      "cell_type": "code",
      "source": [
        "# Compile the model\n",
        "model.compile(optimizer='adam',\n",
        "              loss='sparse_categorical_crossentropy',\n",
        "              metrics=['accuracy'])"
      ],
      "metadata": {
        "id": "zXfO0gRUn2rU"
      },
      "id": "zXfO0gRUn2rU",
      "execution_count": null,
      "outputs": []
    },
    {
      "cell_type": "code",
      "source": [
        "# Train the model\n",
        "history = model.fit(X_train, y_train, epochs=25, verbose=1, initial_epoch=0, validation_data=(X_test, y_test))"
      ],
      "metadata": {
        "id": "WY7UjG5zn4fs"
      },
      "id": "WY7UjG5zn4fs",
      "execution_count": null,
      "outputs": []
    },
    {
      "cell_type": "code",
      "source": [
        "# Evaluate the model\n",
        "_, accuracy = model.evaluate(X_test, y_test)\n",
        "print(\"Accuracy:\", accuracy * 100, \"%\")"
      ],
      "metadata": {
        "id": "xwiaDPrGn6D_"
      },
      "id": "xwiaDPrGn6D_",
      "execution_count": null,
      "outputs": []
    },
    {
      "cell_type": "code",
      "source": [
        "# Generate classification report\n",
        "true_labels = y_test\n",
        "predictions = model.predict(X_test)\n",
        "predicted_labels = np.argmax(predictions, axis=-1)\n",
        "print(\"Classification Report:\")\n",
        "print(classification_report(true_labels, predicted_labels, target_names=RIPENESS_CLASSES))"
      ],
      "metadata": {
        "id": "byz6Ty-En7ic"
      },
      "id": "byz6Ty-En7ic",
      "execution_count": null,
      "outputs": []
    },
    {
      "cell_type": "code",
      "source": [
        "import matplotlib.pyplot as plt\n",
        "from sklearn.metrics import confusion_matrix"
      ],
      "metadata": {
        "id": "eG4ileYKn-SC"
      },
      "id": "eG4ileYKn-SC",
      "execution_count": null,
      "outputs": []
    },
    {
      "cell_type": "code",
      "source": [
        "# Function to plot confusion matrix\n",
        "def plot_confusion_matrix(true_labels, predicted_labels, classes):\n",
        "    cm = confusion_matrix(true_labels, predicted_labels)\n",
        "    plt.figure(figsize=(8, 6))\n",
        "    plt.imshow(cm, interpolation='nearest', cmap=plt.cm.Blues)\n",
        "    plt.title('Confusion Matrix')\n",
        "    plt.colorbar()\n",
        "    tick_marks = np.arange(len(classes))\n",
        "    plt.xticks(tick_marks, classes, rotation=45)\n",
        "    plt.yticks(tick_marks, classes)\n",
        "\n",
        "    thresh = cm.max() / 2.\n",
        "    for i in range(cm.shape[0]):\n",
        "        for j in range(cm.shape[1]):\n",
        "            plt.text(j, i, format(cm[i, j], 'd'), horizontalalignment=\"center\",\n",
        "                     color=\"white\" if cm[i, j] > thresh else \"black\")\n",
        "\n",
        "    plt.tight_layout()\n",
        "    plt.ylabel('True Label')\n",
        "    plt.xlabel('Predicted Label')\n",
        "    plt.show()\n",
        "\n",
        "# Plot confusion matrix\n",
        "plot_confusion_matrix(true_labels, predicted_labels, classes=RIPENESS_CLASSES)"
      ],
      "metadata": {
        "id": "4okxwmYcn-su"
      },
      "id": "4okxwmYcn-su",
      "execution_count": null,
      "outputs": []
    },
    {
      "cell_type": "code",
      "source": [
        "# Plot test accuracy and loss graphs\n",
        "plt.figure(figsize=(12, 4))\n",
        "plt.subplot(1, 2, 1)\n",
        "plt.plot(history.history['accuracy'], label='Training Accuracy')\n",
        "plt.plot(history.history['val_accuracy'], label='Validation Accuracy')\n",
        "plt.xlabel('Epochs')\n",
        "plt.ylabel('Accuracy')\n",
        "plt.title('Training and Validation Accuracy')\n",
        "plt.legend()\n",
        "\n",
        "plt.subplot(1, 2, 2)\n",
        "plt.plot(history.history['loss'], label='Training Loss')\n",
        "plt.plot(history.history['val_loss'], label='Validation Loss')\n",
        "plt.xlabel('Epochs')\n",
        "plt.ylabel('Loss')\n",
        "plt.title('Training and Validation Loss')\n",
        "plt.legend()\n",
        "\n",
        "plt.tight_layout()\n",
        "plt.show()"
      ],
      "metadata": {
        "id": "98au_6uAoAHP"
      },
      "id": "98au_6uAoAHP",
      "execution_count": null,
      "outputs": []
    },
    {
      "cell_type": "code",
      "source": [
        "# Define the path to save the model\n",
        "model_path = r\"C:\\Users\\nisal\\Notebooks\\v3_model_9cls.h5\"\n",
        "\n",
        "# Save the trained model\n",
        "model.save(model_path)\n",
        "print(\"Model saved successfully at:\", model_path)"
      ],
      "metadata": {
        "id": "3jrOZqFAoB6b"
      },
      "id": "3jrOZqFAoB6b",
      "execution_count": null,
      "outputs": []
    }
  ],
  "metadata": {
    "kernelspec": {
      "display_name": "testenv",
      "language": "python",
      "name": "testenv"
    },
    "language_info": {
      "codemirror_mode": {
        "name": "ipython",
        "version": 3
      },
      "file_extension": ".py",
      "mimetype": "text/x-python",
      "name": "python",
      "nbconvert_exporter": "python",
      "pygments_lexer": "ipython3",
      "version": "3.11.6"
    },
    "colab": {
      "provenance": [],
      "include_colab_link": true
    },
    "accelerator": "TPU"
  },
  "nbformat": 4,
  "nbformat_minor": 5
}